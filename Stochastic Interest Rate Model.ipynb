{
 "cells": [
  {
   "cell_type": "markdown",
   "id": "c26890b8-4d6b-43cb-8ce4-a11cdb0e3115",
   "metadata": {},
   "source": [
    "# Stochastic Interest Rate Model \n"
   ]
  },
  {
   "cell_type": "markdown",
   "id": "ba02c374-f5f9-4977-8814-fb4ce5a5dfa0",
   "metadata": {},
   "source": [
    "<b>Interest Rate Model</b>: is a probabilistic description of how interest rates can change over time "
   ]
  },
  {
   "cell_type": "markdown",
   "id": "41f4628d-f27f-4f7b-b620-1bbba19c7c23",
   "metadata": {},
   "source": [
    "In this mnotebook I will focus on the Lattice models, especially the trinomial models, and the mean-reversion process"
   ]
  },
  {
   "cell_type": "markdown",
   "id": "2044f7b8-3c77-47f7-8401-a6076e020939",
   "metadata": {},
   "source": [
    "### Continous-Times Stochastic Process, Ito's process, Drift's Term, CEV model \n",
    "$r$ - the short rate and, $dr$ - the change in the short rate\n",
    "<br>$t$ - time, $dt$ - the change of time or the lenght of the time interval\n",
    "<br>$z$ - random term, $dz$ - random process\n",
    "\n",
    "\n",
    "Basic equation to describing the dynamics of the short rate : $dr= bdt+ \\sigma dz$\n",
    "<br>$b$ - drift term ( the change of the average value of a stochastic (random) process.)\n",
    "<br>$\\sigma$ - standard deviation of the change of the short rate (volatility)\n",
    "<br>This equation tells us that (i) the change of short rate over time depends on the expected direction of the change in the short rate $b$ and (ii) the random process ($dz$) that affected by volatility\n",
    "\n",
    "We assume that :\n",
    "1.  $z$ ~ $N(0,1)$\n",
    "2. $dr$ is proportional to the value $z$, which depends on the $\\sigma$\n",
    "3. for every $t$, $dr_t$ and $dr_{t+1}$ are IID\n",
    "\n",
    "We can change the dynamics of the drift term and the dynamics of the volatility term by allowing these two parameters to depend on the level of short rate and time, we obtain the <b>Itô process</b> model: $dr= b(r,t)dt + \\sigma(r,t)dz$\n",
    "\n",
    "We now assume that the volatility does not depend on time, $\\sigma(r,t) = \\sigma(r)$, then the dynamics of the volatility term can be specified as follow: $\\sigma r^{\\gamma}dz$ \n",
    "<br>$\\gamma$ is equal to the <b>constant elasticity of variance</b>, which  controls the relationship between volatility and price.\n",
    "<br>This equation is called <b> The constant elasticity of variance model</b>(CEV model). This model allows us to distinguish between the different specifications of the dynamics of the volatility term for the various interest-rate models\n",
    "<br> We get these following models identified by the researchrs :\n",
    "1. $\\gamma = 0; \\sigma(r,t) = \\sigma $ - Vasiek Specification( normal model )\n",
    "2. $\\gamma = 1; \\\\sigma(r,t)= \\sigma r$ - Dothan pecification( proportional volatility model )\n",
    "3. $\\gamma= 1/2; \\sigma(r,t)= \\sigma \\sqrt{r}$ - Cox-Ingersoll-Ross Specification( square-root model )\n",
    "\n",
    "\n",
    "In specifying the dynamics of the drift term,we assume in this notebook that the change of short rate follows a <b>mean-reversion process</b>. We have the mean-reversion process that specifies the dynamics of the drift term is : $b(r,t) = -\\alpha (r-\\overline{r})$\n",
    "<br>$\\overline{r}$ - long-run stabe mean value for the short rate \n",
    "<br>$\\alpha$ - speed of adjustment (the speed at which the short rate converge to the long-run stable mean)\n",
    "<br> $\\sigma$ - Instantaneous volatility. High $\\sigma$ implies more randomness\n",
    "\n",
    "Finally we have the mean-reverting square-root model : \n",
    "<p style=\"text-align: center;\"> \n",
    "$dr= \\alpha (r-\\overline{r})dt + \\alpha\\sqrt{r} dz$\n",
    "</p>\n"
   ]
  },
  {
   "cell_type": "markdown",
   "id": "309002be-0d17-4177-a78b-aea011bbd8f3",
   "metadata": {},
   "source": [
    "## 1. No-Arbitrage Interest Rate Model\n"
   ]
  },
  {
   "cell_type": "markdown",
   "id": "bd0b7ff3-bad7-49dc-8460-69c95bb9a4c3",
   "metadata": {},
   "source": [
    "In derivatives markets, arbitrage is the certainty of profitting from a price difference between a derivative and portfolio of assets that replicates the derivatives's cashflows.\n",
    "\n",
    "<b>Arbitrage-free</b> or <b>No-Arbitrage</b> Models are used to generate the true value of the underlying asset (interest rate) without taking into consideration derivative or alternative market pricing.\n",
    "\n",
    "Arbitrage-free models are less theorical and more practical in data fitting since the number are token from the real historical market data. They are known as arbitrage-free because they work under the assumption that<b> the market term structure is correct and that there are no opportunities for arbitage </b>."
   ]
  },
  {
   "cell_type": "markdown",
   "id": "6447f552-d2b1-4746-bb82-a9a360a330c8",
   "metadata": {},
   "source": [
    "### 1.1. No-Arbitrage models properties \n",
    "1. Match today's term structure : Yes\n",
    "2. Today's term structure is for <b>input</b>\n",
    "3. Volatility term is a constant or a function of t (for matching today's volatility term structure)\n",
    "4. Disadvantages : (i) Since the drift and volatility terms are specified to be functions of t in order to match the current interest rate and volatility term structures, its exactness of matching term structures disappears with the passage of time. (ii) Thus, this type of model is not suited for prediction .\n",
    "5. Advantages : (i) Match the term structure today exactly and thus value interest-rate-relative products more accurately (ii) This type of models is useful for traders, who need accurate valuations for both spots and derivatives of interest rates or bonds"
   ]
  },
  {
   "cell_type": "markdown",
   "id": "6d2ac92a-0880-4492-840e-ae56cd264a64",
   "metadata": {},
   "source": [
    "### 1.2. Models \n",
    "The most popular arbitrage-free interest-rate models used for valuation are:\n",
    "<br>• the Ho-Lee model\n",
    "<br>• the Hull-White model\n",
    "<br>• the Kalotay-Williams-Fabozzi model\n",
    "<br>• the Black-Karasinski model\n",
    "<br>• the Black-Derman-Toy model\n",
    "<br>• the Heath-Jarrow-Morton model"
   ]
  },
  {
   "cell_type": "markdown",
   "id": "6f05ff38-9c15-44d7-a856-0a68050331bb",
   "metadata": {},
   "source": [
    "### 1.2.1. Black-Derman-Toy (BDT) model :\n",
    "<p style=\"text-align: center;\">\n",
    "    $d(ln r) = \\theta(r,\\sigma,t)dt+\\sigma(t)dW$\n",
    "</p>\n",
    "$r$ - the short rate at time t \n",
    "<br>$\\theta$ - value of the underlying asset at option price expiry\n",
    "<br>$\\sigma$ - volatility (in this case the volatility is constant)\n",
    "<br>$W$ - a standard Brownian motion under risk-neutral probability measure; $dW$ its differential "
   ]
  },
  {
   "cell_type": "markdown",
   "id": "5bcae976-c576-457d-ae1b-9fad55eb764d",
   "metadata": {},
   "source": [
    "The basic ides of the BDT model is to compute a binomial tree of short-term interest rates, with a flexible structure to match the data. In this particular model, we assume that (i) the short-term rate is lognormally distributed, (ii) with the mean-reverting behaviour"
   ]
  },
  {
   "cell_type": "markdown",
   "id": "3ffd3ae9-5597-43b4-a39a-76a4919203d6",
   "metadata": {},
   "source": [
    "#### Construction \n",
    "We suppose that the zero-coupon interest rate at time $t_n$ is knowm and we denote it by $R_n$ as the initial rate.The initial pays off value is : \n",
    "<p style=\"text-align: center;\">\n",
    "    $P_{n}=\\frac{1}{(1+R_{n})^{dt}}$\n",
    "</p>\n",
    "<br>For $r_n$ is applied to the period $[dt,idt)$\n",
    "<br> During each time step the $dt$ period interest rate has a 50% probability of moving up or down. The value of a zero_coupon bond that pays off at time $it_{n}$ is :\n",
    "<p style=\"text-align: center;\">\n",
    "    $P_{i}=\\frac{1}{(1+R_{i})^{idt}}$\n",
    "</p>\n"
   ]
  },
  {
   "cell_type": "markdown",
   "id": "8cd0b8cc-013d-4138-b3f9-436e5b7dff01",
   "metadata": {},
   "source": [
    "The value of this bond when $r_i$ goes up is : \n",
    "<p style=\"text-align: center;\">\n",
    "    $P_{u_{i}} = \\frac{1}{(1+r_{u_{i}})^{idt}}$\n",
    "</p>\n",
    "\n",
    "The value of this bond when $r_i$ goes down is : \n",
    "<p style=\"text-align: center;\">\n",
    "    $P_{d_{i}} = \\frac{1}{(1+r_{d_{i}})^{idt}}$\n",
    "</p>"
   ]
  },
  {
   "cell_type": "markdown",
   "id": "e645e553-0cbe-4339-8c88-1e11135e8e53",
   "metadata": {},
   "source": [
    "We have the yield volatility at time $i$: \n",
    "<p style=\"text-align: center;\">\n",
    "    $\\sigma_{i} \\sqrt{dt}= \\frac{ln(r_{u_{i}}/r_{d_{i}})}{2}$\n",
    "</p>"
   ]
  },
  {
   "cell_type": "markdown",
   "id": "9f4217bb-0355-4dc9-9441-9e400e53c212",
   "metadata": {},
   "source": [
    "Hence, we have this equation at time i : \n",
    "<p style=\"text-align: center;\">\n",
    "    $P_{i-1}[0.5P_{u_{i-1}}+0.5P_{d_{i-1}}]$= $P_{i}$\n",
    "</p>"
   ]
  },
  {
   "cell_type": "markdown",
   "id": "ea78b2ff-53bc-494f-b527-e4c6b2eb114b",
   "metadata": {},
   "source": [
    "To find $r_{u_{i}}$ and $r_{d_{i}}$ we have :\n",
    "<p style=\"text-align: center;\">\n",
    "    $r_{u_{i}}= r_{d{i}}e^{2\\sigma_{i}}$\n",
    "</p>"
   ]
  },
  {
   "cell_type": "markdown",
   "id": "040beacf-9a5f-4bbb-a861-0953cbd64838",
   "metadata": {},
   "source": [
    "We denote the bond yield of maturity at time i as :\n",
    "<p style=\"text-align: center;\">\n",
    "    $\\beta_{i}= 0.5ln(\\frac{y_u}{y_d})$= $\\frac{1}{(1+r_i)^{i}}$ \n",
    "</p>\n"
   ]
  },
  {
   "cell_type": "markdown",
   "id": "0c0e66fc-dcf0-4dfc-a85e-0ada473095fe",
   "metadata": {},
   "source": [
    "### 1.2.2. Ho-Lee / Hull-White models :"
   ]
  },
  {
   "cell_type": "markdown",
   "id": "20d14dc4-88df-4f0a-8704-d045ede6f746",
   "metadata": {},
   "source": [
    "The Hull-White model is a combination of Ho-Lee and Vasicek with time dependent parameters models. The short rate of this model follows the normal distribution.\n",
    "\n",
    "Hull-White Model : \n",
    "<p style=\"text-align: center;\"> \n",
    "$dr= [\\theta(t)- \\alpha(t)r(t)]dt + \\sigma dW(t)$\n",
    "</p>\n",
    "\n",
    "1. $\\theta(t)$ is determined based on today's term structure of interest rates, and its continous-time equivalence is:\n",
    "<p style=\"text-align: center;\"> \n",
    "$\\theta(t)=\\frac{\\delta F(0,t)}{\\delta t} + \\alpha F(0,t) + \\frac{\\sigma^2}{2\\alpha} (1-e^{-2\\alpha t}) =   F_t(0,t) + \\alpha F(0,t) + \\frac{\\sigma^2}{2\\alpha} (1-e^{-2\\alpha t})$\n",
    "</p>\n",
    "Where $\\alpha$ and $\\sigma$ are constant parameters\n",
    "<br><b>Our goal is to determine $\\theta(T)$ in terms of current term structure of bond price $P(r,t;T)$</b>\n",
    "2. The theorical value of the zero-coupon bond is : \n",
    "<p style=\"text-align: center;\"> \n",
    "$P(r,t,T)=e^{ A(t,T)-B(t,T)r(t)}$\n",
    "</p>\n",
    "<br> And its governing equation :\n",
    "<p style=\"text-align: center;\"> \n",
    "$\\frac{\\delta P}{\\delta t} + \\frac{\\sigma^2}{2}\\frac{\\delta^2 P}{\\delta r^2} + [\\theta(t)-\\alpha r] \\frac{\\delta P}{\\delta r}-rP = 0$\n",
    "</p>\n",
    "With, \n",
    "<p style=\"text-align: center;\"> \n",
    "$B(t,T)= \\frac{1-e^{-\\alpha (T-t)}}{\\alpha}$\n",
    "</p>\n",
    "and \n",
    "<p style=\"text-align: center;\"> \n",
    "$A(t,T)= \\frac{\\sigma^2}{\\alpha} \\int^T_t B^2(u,T)du - \\int^T_t\\theta(u)B(u,T)du$\n",
    "</p>\n",
    "<br>Applying the relation : \n",
    "<p style=\"text-align: center;\"> \n",
    "$lnP(r,t,T) + rB(T,t)= A(t,T)$\n",
    "</p>\n",
    "<br> We have : \n",
    "<p style=\"text-align: center;\"> \n",
    "$\\frac{\\sigma^2}{\\alpha} \\int^T_t B^2(u,T)du - \\int^T_t\\theta(u)B(u,T)du = lnP(r,t,T) + rB(T,t)$\n",
    "</p>\n",
    "<p style=\"text-align: center;\"> \n",
    "$\\int^T_t\\theta(u)B(u,T)du = \\frac{\\sigma^2}{2} \\int^T_t B^2(u,T)du - lnP(r,t,T) - rB(T,t)$\n",
    "</p>\n",
    "<br> By differentiating $\\int^T_t\\theta(u)B(u,T)du$ with respect to $T$ we have :\n",
    "<p style=\"text-align: center;\"> \n",
    "$\\frac{\\delta}{\\delta T}\\int^T_t\\theta(u)B(u,T)du = \\theta(u)B(u,T)|_{u=T} + \\int^T_t\\theta(u) \\frac{\\delta}{\\delta T}B(u,T)du$\n",
    "</p>\n",
    "<p style=\"text-align: center;\"> \n",
    "$= \\int^T_t \\theta(u) e^{-\\alpha (T-t)}du$\n",
    "</p>\n",
    "<br> By equating the derivatives and solving the 2 sides of the equation, we obtain :\n",
    "<p style=\"text-align: center;\"> \n",
    "$\\int^T_t \\theta(u) e^{-\\alpha (T-t)}du = \\frac{\\sigma^2}{\\alpha} \\int^T_t [1-e^{-\\alpha (T-u)}]du  -  \\frac{\\delta}{\\delta T}lnP(r,t,T) - re^{-\\alpha(T-t)}$\n",
    "</p>\n",
    "<br> By multiplying $\\int^T_t\\theta(u)B(u,T)du$ by $\\alpha$ and add it to $\\int^T_t \\theta(u) e^{-\\alpha (T-t)}du$ we obtain :\n",
    "<p style=\"text-align: center;\"> \n",
    "$\\int^T_t \\theta(u) du = \\frac{\\sigma^2}{2\\alpha} \\int^T_t [1-e^{-2\\alpha (T-u)}]du  -  \\frac{\\delta}{\\delta T}lnP(r,t,T) - r - \\alpha ln P(r,t,T)$\n",
    "</p>\n",
    "<br> Finally, Solving this equation by , we obtain:\n",
    "<p style=\"text-align: center;\"> \n",
    "$\\theta(u) du = \\frac{\\sigma^2}{2\\alpha} [1-e^{-2\\alpha (T-u)}]  -  \\frac{\\delta}{\\delta T^2}lnP(r,t,T) - \\alpha \\frac{\\delta}{\\delta T}ln P(r,t,T)$\n",
    "</p>\n",
    "We can easily notice that $-\\frac{\\delta}{\\delta T}lnP(r,tT) = F(t,T)$, so we rewrite $\\theta(T)$ in the form :\n",
    "<p style=\"text-align: center;\"> \n",
    "$\\theta(t)=\\frac{\\delta F(t,T)}{\\delta T} + \\alpha F(t,T) + \\frac{\\sigma^2}{2\\alpha} (1-e^{-2\\alpha (T-t)}) $\n",
    "</p>"
   ]
  },
  {
   "cell_type": "markdown",
   "id": "9c0e60ce-088d-4d49-9a59-fa36f436bdc7",
   "metadata": {},
   "source": [
    "The primary role of $\\theta(t)$ is to ensure that the Hull-White model matches the initial yield curve. The yield curve represents the relationship between bond yields (or interest rates) and their maturities at the initial time. The function $\\theta (t)$is designed to adjust the drift term of the short rate process so that the model's implied zero-coupon bond prices match the observed market prices."
   ]
  },
  {
   "cell_type": "markdown",
   "id": "ca6b16ef-5682-4dc2-a256-5bba4026ef99",
   "metadata": {},
   "source": [
    "#### Construction 1\n",
    "Construction of the Hull-White tree occurs in two stages. \n",
    "\n",
    "The first stage is to build a preliminary tree for $r$ ( denoted as the intitial rate at time $t$) by setting $\\theta(t) = 0$ and the initial value of $r=0$. Assume that the change of r at the first stage there fore :\n",
    "<p style=\"text-align: center;\"> \n",
    "$\\Delta r= -ar  \\Delta t + \\sigma \\Delta z$\n",
    "</p>\n",
    "For this process, $ r(t+\\Delta t) -r(t)$ <b>is normally distributed </b>and $r$ as the continously compounded $\\Delta t$-period rate. We denoted the mean (expected value) of this function $r(t)M$ and the variance as $V$ in time $\\Delta t$\n",
    "\n",
    "Suppose that the vertical distance between the nodes on the tree is set equal to $\\Delta r= \\sqrt{3V}$\n",
    "\n",
    "Define (i,j) as the node for which $t=i\\Delta t $  and  $r=j\\Delta r$. We can imagine (i,j) as the points coordinates, following by $t$ as the vertical and $r $ as the horizontal lines \n",
    "\n",
    "For each node at point $i\\Delta t $ there are 3 posibilities of how the rate changing. Define $p_u, p_m, p_d$ as the probabilities of the lowest, middle, and highest branches emanaing from a node. \n",
    "\n",
    "<b>Case 1</b> : the normal situation. Calculate $\\Delta r at i+1$\n",
    "<p style=\"text-align: center;\"> \n",
    "$R_{i+1,j+1} = (j+1).\\Delta r$  for  $p_u = \\frac{1}{6}+\\frac{ j^2 \\Delta t^2-j\\Delta t}{2}$\n",
    "</p>\n",
    "<p style=\"text-align: center;\"> \n",
    "$R_{i+1,j} = j.\\Delta r$  for  $p_m = \\frac{2}{3}- j^2 \\Delta t^2$\n",
    "</p>\n",
    "<p style=\"text-align: center;\"> \n",
    "$R_{i+1,j-1} = (j-1).\\Delta r$  for  $p_d = \\frac{1}{6}+\\frac{ j^2 \\Delta t^2+j\\Delta t}{2}$\n",
    "</p>\n",
    "\n",
    "<b>Case 2</b>: $R_{i,j}=j\\Delta r$ is negatively too small such that the mean of $\\Delta r$, $-j\\Delta r \\Delta t $, is too large for the normal case (branches up)\n",
    "\n",
    "<p style=\"text-align: center;\"> \n",
    "$R_{i+1,j+2} = (j+2).\\Delta r$  for  $p_u = \\frac{1}{6}+\\frac{ j^2 \\Delta t^2-j\\Delta t}{2}$\n",
    "</p>\n",
    "<p style=\"text-align: center;\"> \n",
    "$R_{i+1,j+1} = (j+1).\\Delta r$  for  $p_m = -\\frac{1}{3}- j^2 \\Delta t^2 - 2j\\Delta t$\n",
    "</p>\n",
    "<p style=\"text-align: center;\"> \n",
    "$R_{i+1,j} = j.\\Delta r$  for  $p_d = \\frac{7}{6}+\\frac{ j^2 \\Delta t^2+3j\\Delta t}{2}$\n",
    "</p>\n",
    "\n",
    "<b>Case 2</b>: $R_{i,j}=j\\Delta r$ is too high such that the mean of $\\Delta r$, $-j\\Delta r \\Delta t $, is too negative for the normal case (branches down)\n",
    "\n",
    "<p style=\"text-align: center;\"> \n",
    "$R_{i,i} = (j+2).\\Delta r$  for  $p_u = \\frac{7}{6}+\\frac{ j^2 \\Delta t^2-3j\\Delta t}{2}$\n",
    "</p>\n",
    "<p style=\"text-align: center;\"> \n",
    "$R_{i+1,j11} = (j-1).\\Delta r$  for  $p_m = -\\frac{1}{3}- j^2 \\Delta t^2 - 2j\\Delta t$\n",
    "</p>\n",
    "<p style=\"text-align: center;\"> \n",
    "$R_{i-1,j-2} = (j-2).\\Delta r$  for  $p_d = \\frac{1}{6}+\\frac{ j^2 \\Delta t^2-j\\Delta t}{2}$\n",
    "</p>\n"
   ]
  },
  {
   "cell_type": "markdown",
   "id": "14dacdc3-070b-4361-afbb-60ff98dcb3dc",
   "metadata": {},
   "source": [
    "<b>Note</b> : The spacing parameter for the process $r$ is defined as $\\delta r$ ~ $\\sigma \\sqrt{3\\Delta t}$ for erroe minimazatio. Due to the mean reverting feature, the level of $r$ in the trinomial trees could be too high or too low. Hull and White suggested that maximum deviation of $r$ from 0 ($j=0$) is $j_{max} \\Delta r$. We can define on this model as the bounds of j. Hence, \n",
    "<p style=\"text-align: center;\"> \n",
    "$j_{max}=\\frac{0.184}{a\\Delta t}$\n",
    "</p>\n",
    "<p style=\"text-align: center;\"> \n",
    "$j_{min}= - j_{max}$\n",
    "</p>\n"
   ]
  },
  {
   "cell_type": "markdown",
   "id": "ab585158-eaa6-42b0-943b-f6f038e4257b",
   "metadata": {},
   "source": [
    "#### Construction 2\n",
    "Consider the difference between $r^*$ and $r$ \n",
    "Define $\\alpha(t)= r^*(t)-r(t)$, and assume the change process of $r^*$ and $r$ are as follow :\n",
    "<p style=\"text-align: center;\"> \n",
    "$dr^*= [\\theta(t)-ar^*]dt+\\sigma dW$\n",
    "</p>\n",
    "<p style=\"text-align: center;\"> \n",
    "$dr= -ardt+\\sigma dW$\n",
    "</p>\n",
    "We can conclude that : \n",
    "<p style=\"text-align: center;\"> \n",
    "$d \\alpha = dr^* - dr= [\\theta(t)-a\\alpha]dt$\n",
    "</p>\n",
    "Since we already know \\theta(t) , we can solve \\alpha(t) from the above differential equation and obtain :\n",
    "<p style=\"text-align: center;\"> \n",
    "$\\alpha = F(0,t) + \\frac{\\sigma^2}{2\\sigma^2}(1-e^{-at})^2$ if $a \\neq 0$\n",
    "</p>\n",
    "<p style=\"text-align: center;\"> \n",
    "$\\alpha = F(0,t) + \\frac{\\sigma^2}{2\\sigma^2}$ if $a= 0$\n",
    "</p>\n",
    "The goal is to find $\\alpha(t)$ by which is the upward shifting level of $r(t)$ such that the resulting $r^*$ tree can match today's term structure of interest rates exactly\n",
    "\n",
    "We define $Q_{i,j}$ as the present value of a security pays off if node(i,j) is reached and zero otherwise. The $\\alpha_i$ and $Q_{i,j}$ are calculated using foward induction. The value of $Q_{0,0}$ is 1. The $\\alpha_0$ is chosen to give the right price for a zero-coupon bond maturing at time $\\Delta t$.\n",
    "Hence,\n",
    "<p style=\"text-align: center;\"> \n",
    "$Q(0,0)= e^{-0.03824.1}= e^{-\\alpha (0) 1}$ => $\\alpha(0)=3.824$ %\n",
    "</p>\n",
    "Now we need to calculate the values of $Q_{1,-1}$, $Q_{1,0}$, $Q_{1,1}$ which are equal proportionally $0.1667e^{0.0382}$ =0.1604, = 0.6417, = 0.1604\n",
    "\n",
    "The price as seen at the initial node is therefore :\n",
    "<p style=\"text-align: center;\"> \n",
    "$P(0,0)$=  $Q_{1,-1} e^{-(\\alpha +\\Delta r)}$+ $Q_{1,0}e^{-\\alpha}$+ $Q_{1,1}e^{-(\\alpha -\\Delta r)}$\n",
    "</p>"
   ]
  },
  {
   "cell_type": "markdown",
   "id": "db2003c5-4722-4c29-a39b-ad6b4ff37ccf",
   "metadata": {},
   "source": [
    "We repeat all this steps at every nodes till so that the price of a discount bond maturing at time time $(m+1)\\Delta t$ is given by \n",
    "<p style=\"text-align: center;\"> \n",
    "$P(0,m+1)$=  $\\sum_{j=-n_m} Q_{m,j} e^{[-(\\alpha +j\\Delta r)] \\Delta t}$\n",
    "</p>\n",
    "he solution of this equation is :\n",
    "<p style=\"text-align: center;\"> \n",
    "$\\alpha_m= \\frac{log \\sum Q_{m,j}e^{-j\\Delta r \\Delta t}- logP(0,m+1)}{\\Delta t}$\n",
    "</p>"
   ]
  },
  {
   "cell_type": "markdown",
   "id": "eea9aeaa-b4e4-43b8-99e3-04f2aa253793",
   "metadata": {},
   "source": [
    "References\n",
    "1. https://mitp-content-server.mit.edu/books/content/sectbyfn?collid=books_pres_0&id=14011&fn=sample_chapter.pdf\n",
    "2. https://homepage.ntu.edu.tw/~jryanwang/courses/Financial%20Computation%20or%20Financial%20Engineering%20(graduate%20level)/FE_Ch12%20Stochastic%20Interest%20Rate%20and%20Credit%20Models.pdf\n",
    "3. Course: M339W/M389W - Fin Math for Actuaries - University of Texas at Austin\n",
    "4. Technical Note No. 231 Options, Futures, and Other Derivatives - John Hull - The Black, Derman, and Toy Model\n",
    "5. https://www.math.hkust.edu.hk/~maykwok/courses/MAFS525/Topic4_4.pdf\n",
    "6. Numerical Procedure for Implementing Term Structure Models I: Single-Factor Models, Journal of Derivatives 2\n",
    "7. Using Hull-White Interest rate trees\n",
    "8. Hull White Term Structure Simulations with QuantLib Python by  Gouthaman Balaraman"
   ]
  }
 ],
 "metadata": {
  "kernelspec": {
   "display_name": "Python 3 (ipykernel)",
   "language": "python",
   "name": "python3"
  },
  "language_info": {
   "codemirror_mode": {
    "name": "ipython",
    "version": 3
   },
   "file_extension": ".py",
   "mimetype": "text/x-python",
   "name": "python",
   "nbconvert_exporter": "python",
   "pygments_lexer": "ipython3",
   "version": "3.12.4"
  }
 },
 "nbformat": 4,
 "nbformat_minor": 5
}
